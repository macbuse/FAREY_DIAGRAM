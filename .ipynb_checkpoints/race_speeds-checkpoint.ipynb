{
 "cells": [
  {
   "cell_type": "code",
   "execution_count": 1,
   "id": "17a31a98-f549-48cb-bbb4-0b587add5780",
   "metadata": {},
   "outputs": [],
   "source": [
    "import numpy as np\n"
   ]
  },
  {
   "cell_type": "code",
   "execution_count": null,
   "id": "ebbd69c5-6961-489e-a149-e3ce4bc7cb40",
   "metadata": {},
   "outputs": [],
   "source": [
    "\n",
    "sss = '''2001\t40.018\t40.208\n",
    "2002\t39.786\t41.198\n",
    "2003\t40.335\t41.745\n",
    "2004\t39.622\t40.778\n",
    "2005\t40.481\t41.422\n",
    "2006\t40.682\t44.024\n",
    "2007\t39.757\t42.056\n",
    "2008\t40.166\t41.052\n",
    "2009\t40.158\t40.898\n",
    "2010\t39.928\t40.452\n",
    "2011\t40.112\t41.440\n",
    "2012\t39.721\t40.910\n",
    "2013\t39.790\t39.283\n",
    "2014\t40.254\t40.791\n",
    "2015\t40.145\t40.733\n",
    "2016\t40.133\t40.833\n",
    "2017\t40.761\t40.819\n",
    "2018\t40.585\t40.552\n",
    "2019\t40.660\t41.390\n",
    "2020\t40.437\t41.238\n",
    "2021\t41.564\t42.202\n",
    "2022\t41.286\t42.344\n",
    "2023\t41.807\t42.772\n",
    "2024\t42.229\t43.167\n",
    "2025\t42.996\t44.083\n",
    "'''"
   ]
  },
  {
   "cell_type": "code",
   "execution_count": 7,
   "id": "08248b19-eb79-4b15-8500-9bcc0748bdec",
   "metadata": {},
   "outputs": [
    {
     "data": {
      "text/plain": [
       "0.08016247033889784"
      ]
     },
     "execution_count": 7,
     "metadata": {},
     "output_type": "execute_result"
    }
   ],
   "source": [
    "p, z = 0.075, 1.96\n",
    "n = 10000\n",
    "\n",
    "p + z*np.sqrt(p*(1 - p )/n)"
   ]
  },
  {
   "cell_type": "code",
   "execution_count": 2,
   "id": "1082f760-42d7-4517-b73e-604094995420",
   "metadata": {},
   "outputs": [],
   "source": [
    "UU = np.array([13,1,1,2]).reshape(2,2)\n",
    "VV = np.array([5,-1,-1,34]).reshape(2,2)\n",
    "#VV = np.array([2,-1,-1,13]).reshape(2,2)"
   ]
  },
  {
   "cell_type": "code",
   "execution_count": 117,
   "id": "b755f725-7afe-431d-b0a4-5b61de236d1b",
   "metadata": {},
   "outputs": [
    {
     "data": {
      "text/plain": [
       "array([ 1, 37])"
      ]
     },
     "execution_count": 117,
     "metadata": {},
     "output_type": "execute_result"
    }
   ],
   "source": [
    "VV @ [2,3]"
   ]
  },
  {
   "cell_type": "code",
   "execution_count": 81,
   "id": "131f0d9d-ed2a-4070-b54c-d23fdeb5259a",
   "metadata": {},
   "outputs": [
    {
     "data": {
      "text/plain": [
       "array([2.00000016, 0.99999994])"
      ]
     },
     "execution_count": 81,
     "metadata": {},
     "output_type": "execute_result"
    }
   ],
   "source": [
    "F = 5\n",
    "\n",
    "p = .78\n",
    "q = 1-p\n",
    "\n",
    "PP  = np.array([3*F, -1,1,0]).reshape(2,2)\n",
    "\n",
    "A = p*np.identity(2)  + q*PP\n",
    "X = A/np.sqrt(np.linalg.det(A))\n",
    "X @ [1,2]"
   ]
  },
  {
   "cell_type": "code",
   "execution_count": 87,
   "id": "0bf3c884-4840-4483-b078-6f5caeba1cf5",
   "metadata": {},
   "outputs": [
    {
     "data": {
      "text/plain": [
       "array([2., 1.])"
      ]
     },
     "execution_count": 87,
     "metadata": {},
     "output_type": "execute_result"
    }
   ],
   "source": [
    "np.array([2.24,-.12,.12,.44]).reshape(2,2)"
   ]
  },
  {
   "cell_type": "code",
   "execution_count": 120,
   "id": "914db9f0-c0da-4df2-a667-31cb3441608a",
   "metadata": {},
   "outputs": [
    {
     "data": {
      "text/plain": [
       "(1.3469012250470787,\n",
       " 1.404625563263382,\n",
       " array([[ 2.02702703, -0.02702703],\n",
       "        [ 0.02702703,  0.97297297]]))"
      ]
     },
     "execution_count": 120,
     "metadata": {},
     "output_type": "execute_result"
    }
   ],
   "source": [
    "F = 13\n",
    "\n",
    "q = 1/37\n",
    "p = 1-q\n",
    "\n",
    "\n",
    "PP  = np.array([3*F, -1,1,0]).reshape(2,2)\n",
    "\n",
    "A = p*np.identity(2)  + q*PP\n",
    "D = np.sqrt(np.linalg.det(A))\n",
    "X = A/D\n",
    "a,b = X @ [1,5]\n",
    "a, D, A"
   ]
  },
  {
   "cell_type": "code",
   "execution_count": 49,
   "id": "6e6765f2-b06a-40ad-b6c3-45ee8b4ba1b6",
   "metadata": {},
   "outputs": [
    {
     "data": {
      "text/plain": [
       "(1.139605764596379, 1.7094086468945686)"
      ]
     },
     "execution_count": 49,
     "metadata": {},
     "output_type": "execute_result"
    }
   ],
   "source": [
    "F = 5\n",
    "q,p  = VV @ np.array([2,3])\n",
    "\n",
    "PP  = np.array([3*F, -1,1,0]).reshape(2,2)\n",
    "\n",
    "A = p*np.identity(2)  + q*PP\n",
    "X = A/np.sqrt(np.linalg.det(A))\n",
    "a,b = X @ [1,2]\n",
    "a,b"
   ]
  },
  {
   "cell_type": "code",
   "execution_count": 51,
   "id": "3c9187ad-25a6-443d-8344-c19cbb59d69c",
   "metadata": {},
   "outputs": [
    {
     "data": {
      "text/plain": [
       "(0.9999999999999993, array([50., 75.]))"
      ]
     },
     "execution_count": 51,
     "metadata": {},
     "output_type": "execute_result"
    }
   ],
   "source": [
    "np.linalg.det(X), A @ [1,2]"
   ]
  },
  {
   "cell_type": "code",
   "execution_count": 105,
   "id": "7c881fb9-b23b-44ec-bdc4-474b88450759",
   "metadata": {},
   "outputs": [
    {
     "data": {
      "text/plain": [
       "-169.0"
      ]
     },
     "execution_count": 105,
     "metadata": {},
     "output_type": "execute_result"
    }
   ],
   "source": [
    "a**2 + b**2 - 3*a*b*F "
   ]
  },
  {
   "cell_type": "code",
   "execution_count": 47,
   "id": "8d382f29-112c-46e9-8a4a-d3f6ba19cebb",
   "metadata": {},
   "outputs": [
    {
     "data": {
      "text/plain": [
       "array([50., 75.])"
      ]
     },
     "execution_count": 47,
     "metadata": {},
     "output_type": "execute_result"
    }
   ],
   "source": [
    "q*PP @ [1,2] +  p*np.identity(2)@[1,2]"
   ]
  },
  {
   "cell_type": "code",
   "execution_count": 20,
   "id": "7f3567aa-d2da-4efc-9960-6573eb8d0ab3",
   "metadata": {},
   "outputs": [
    {
     "data": {
      "text/plain": [
       "(array([50, 75]),\n",
       " array([[13,  1],\n",
       "        [ 1,  2]]))"
      ]
     },
     "execution_count": 20,
     "metadata": {},
     "output_type": "execute_result"
    }
   ],
   "source": [
    "UU @ [q,p], UU"
   ]
  },
  {
   "cell_type": "code",
   "execution_count": 33,
   "id": "365382d2-720f-446f-b5ef-391393d97e20",
   "metadata": {},
   "outputs": [
    {
     "data": {
      "text/plain": [
       "(array([[ 2.08, -0.04],\n",
       "        [ 0.04,  1.48]]),\n",
       " array([4.12, 1.56]),\n",
       " 43.87482193696062)"
      ]
     },
     "execution_count": 33,
     "metadata": {},
     "output_type": "execute_result"
    }
   ],
   "source": [
    "A/F**2, A @ np.array([2,1])/F**2, np.sqrt(np.linalg.det(A))"
   ]
  },
  {
   "cell_type": "code",
   "execution_count": 190,
   "id": "efddf859-5697-44e1-b159-ecfc9b3ab48f",
   "metadata": {},
   "outputs": [
    {
     "data": {
      "text/plain": [
       "(array([[ 3.9988, -0.2142],\n",
       "        [ 0.2142,  0.7858]]),\n",
       " array([[13.,  1.],\n",
       "        [ 0.,  0.]]))"
      ]
     },
     "execution_count": 190,
     "metadata": {},
     "output_type": "execute_result"
    }
   ],
   "source": [
    "p,q = 1,0\n",
    "\n",
    "XX = np.zeros((2,2))\n",
    "\n",
    "XX[0] = p*np.array([13,1])\n",
    "XX[1] = q*np.array([1,2])\n",
    "\n",
    "A, XX"
   ]
  },
  {
   "cell_type": "code",
   "execution_count": 175,
   "id": "57e13c71-0f82-44bd-b9bb-587a9737f2a5",
   "metadata": {},
   "outputs": [
    {
     "data": {
      "text/plain": [
       "array([13,  1])"
      ]
     },
     "execution_count": 175,
     "metadata": {},
     "output_type": "execute_result"
    }
   ],
   "source": [
    "PP @ [1,2]"
   ]
  },
  {
   "cell_type": "code",
   "execution_count": 164,
   "id": "36a520c8-f359-4339-90f1-f7b2fa4e382a",
   "metadata": {},
   "outputs": [
    {
     "data": {
      "text/plain": [
       "0"
      ]
     },
     "execution_count": 164,
     "metadata": {},
     "output_type": "execute_result"
    }
   ],
   "source": [
    "a, b = X @ np.array([1,2])\n",
    "\n",
    "\n",
    "a**2 + b**2 - 3*F*a*b + F**2 "
   ]
  },
  {
   "cell_type": "code",
   "execution_count": 172,
   "id": "b37a390f-eb5a-404b-9d50-e3edb7fca9bf",
   "metadata": {},
   "outputs": [
    {
     "data": {
      "text/plain": [
       "1.0"
      ]
     },
     "execution_count": 172,
     "metadata": {},
     "output_type": "execute_result"
    }
   ],
   "source": [
    "p = 30 - np.sqrt(30**2 - 4*(F**2 + 2**2))\n",
    "p /= 2\n",
    "p**2 - 3*F*2*p + F**2 + 2**2,\n",
    "p"
   ]
  },
  {
   "cell_type": "code",
   "execution_count": 89,
   "id": "51add4d4-1837-49fd-af7f-59d82eff1466",
   "metadata": {},
   "outputs": [
    {
     "name": "stdout",
     "output_type": "stream",
     "text": [
      "3.9999999999999996\n",
      "3.9999999999999996\n",
      "3.9999999999999996\n",
      "3.9999999999999996\n",
      "3.9999999999999996\n",
      "3.9999999999999996\n",
      "3.9999999999999996\n",
      "3.9999999999999996\n",
      "3.9999999999999996\n",
      "3.9999999999999996\n"
     ]
    }
   ],
   "source": [
    "\n",
    "F = 7**2 - 2\n",
    "F = 194\n",
    "\n",
    "p = .9375\n",
    "\n",
    "for k in range(10):\n",
    "    q = 1 - p\n",
    "    A = p * np.identity(2)  + q*np.array([F, -1,1,0]).reshape(2,2)\n",
    "    X = A/np.sqrt(np.linalg.det(A))\n",
    "    p += (X[1,1] + X[0,0] - 4)/10\n",
    "    print(X[1,1] + X[0,0] )"
   ]
  },
  {
   "cell_type": "code",
   "execution_count": 93,
   "id": "05c9c6f7-eb08-4755-887c-05481859311c",
   "metadata": {},
   "outputs": [
    {
     "data": {
      "text/plain": [
       "array([[ 1.94000000e+02, -1.00000000e+00],\n",
       "       [ 1.00000000e+00,  1.73472348e-18]])"
      ]
     },
     "execution_count": 93,
     "metadata": {},
     "output_type": "execute_result"
    }
   ],
   "source": [
    "X @ X @ X @ X"
   ]
  },
  {
   "cell_type": "code",
   "execution_count": 44,
   "id": "6892d7ae-c192-4abd-aee9-7a3b0aac9278",
   "metadata": {},
   "outputs": [
    {
     "data": {
      "text/plain": [
       "5.822225097395822"
      ]
     },
     "execution_count": 44,
     "metadata": {},
     "output_type": "execute_result"
    }
   ],
   "source": []
  },
  {
   "cell_type": "code",
   "execution_count": 45,
   "id": "8d29bf86-81ba-4d9f-a059-d97a88207f7c",
   "metadata": {},
   "outputs": [
    {
     "data": {
      "text/plain": [
       "1.0000000000000007"
      ]
     },
     "execution_count": 45,
     "metadata": {},
     "output_type": "execute_result"
    }
   ],
   "source": [
    "np.linalg.det(X)"
   ]
  },
  {
   "cell_type": "code",
   "execution_count": 46,
   "id": "5e5e286b-0ba5-4900-b2ec-e9310dc76317",
   "metadata": {},
   "outputs": [
    {
     "data": {
      "text/plain": [
       "array([[ 0.00000000e+00, -2.22044605e-16],\n",
       "       [-2.22044605e-16,  0.00000000e+00]])"
      ]
     },
     "execution_count": 46,
     "metadata": {},
     "output_type": "execute_result"
    }
   ],
   "source": [
    "X@A - A@X"
   ]
  },
  {
   "cell_type": "code",
   "execution_count": null,
   "id": "69e94721-28a7-44b3-af5d-71e055b5143a",
   "metadata": {},
   "outputs": [],
   "source": []
  }
 ],
 "metadata": {
  "kernelspec": {
   "display_name": "Python 3 (ipykernel)",
   "language": "python",
   "name": "python3"
  },
  "language_info": {
   "codemirror_mode": {
    "name": "ipython",
    "version": 3
   },
   "file_extension": ".py",
   "mimetype": "text/x-python",
   "name": "python",
   "nbconvert_exporter": "python",
   "pygments_lexer": "ipython3",
   "version": "3.11.11"
  }
 },
 "nbformat": 4,
 "nbformat_minor": 5
}
