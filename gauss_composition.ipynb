{
 "cells": [
  {
   "cell_type": "code",
   "execution_count": 21,
   "id": "f0c12d94-78ee-429e-8919-b997cc1b58d4",
   "metadata": {},
   "outputs": [],
   "source": [
    "import numpy as np\n",
    "from egcd import egcd"
   ]
  },
  {
   "cell_type": "code",
   "execution_count": null,
   "id": "bdde5037-0ff5-4f44-acf5-0eb5a16b2d41",
   "metadata": {},
   "outputs": [],
   "source": [
    "https://wstein.org/edu/Fall2001/124/lectures/lecture23/lecture23.pdf\n",
    "https://pi.math.cornell.edu/~hatcher/TN/TNbook.pdf\n",
    "\n"
   ]
  },
  {
   "cell_type": "markdown",
   "id": "c2a6dcb4-2a0c-4aff-ac3d-64fedc872ac5",
   "metadata": {},
   "source": [
    "1. $c < a$ do a flip  $[a,b,c] \\mapsto [c,-b,a]$\n",
    "\n",
    "1. $|b| < a$ let $k = \\left [ \\frac{a-b}{2a} \\right ]$\n",
    "   - $b \\mapsto b + 2ka$\n",
    "   - $c \\mapsto c'$ <br>\n",
    "   "
   ]
  },
  {
   "cell_type": "code",
   "execution_count": 278,
   "id": "c4114336-4cfd-435e-8bac-c5a8ec7ab887",
   "metadata": {},
   "outputs": [],
   "source": [
    "def red(Q):\n",
    "    a,b,c = Q\n",
    "    if c < a : \n",
    "        return (c,-b,a)\n",
    "    if abs(b) < a and a < c: \n",
    "        return Q\n",
    "    D = b**2 - 4*a*c\n",
    "    k = (a-b) // (2*a)\n",
    "    b = b + 2*k*a\n",
    "    return (a, b, (b**2 - D)//(4*a)\n",
    "    \n",
    "    "
   ]
  },
  {
   "cell_type": "code",
   "execution_count": 196,
   "id": "cf184653-896b-4735-9b91-70adc3764e75",
   "metadata": {},
   "outputs": [],
   "source": [
    "class QF():\n",
    "    def __init__(self,x):\n",
    "        a, b, c = x\n",
    "        self.D = b**2 - 4*a*c\n",
    "\n",
    "    def __mul__(self,other):\n",
    "        pass\n",
    "\n",
    "    def root(self):\n",
    "        return (-self.b + 1J*self.D)/2\n",
    "        \n",
    "\n",
    "    def __str__(self):\n",
    "        return f'{self.a}, {self.b}, {self.c}'"
   ]
  },
  {
   "cell_type": "code",
   "execution_count": 12,
   "id": "d65cedc2-03fe-4276-a132-50fcff16616f",
   "metadata": {},
   "outputs": [
    {
     "name": "stdout",
     "output_type": "stream",
     "text": [
      "1, 2, 3\n"
     ]
    }
   ],
   "source": [
    "print(Q((1,2,3)))"
   ]
  },
  {
   "cell_type": "markdown",
   "id": "e23c167b-cf22-4829-a5cc-b0b9d7cfea31",
   "metadata": {},
   "source": [
    "### Gauss composition\n",
    "\n",
    "\n",
    "A pair of forms $[a_1, b, a_2c]$ and $[a_2, b, a_1c]$ is said to be concordant.\n",
    "\n",
    "\n",
    "For two forms to be concordant is obviously a very strong condition since not only are the\n",
    "second coefficients of the two forms equal, but also the first coefficient of each form\n",
    "divides the third coefficient of the other form. Furthermore, the discriminants of the\n",
    "two forms are equal. Conversely, suppose that two forms \n",
    "$[a_1, b, c_1]$ and $[a_2, b, c_2]$\n",
    "with the same middle coefficient have the same discriminant. \n",
    "\n",
    "Then $$a_1c_1 = a_2c_2$$,\n",
    "so if a1 divides c2\n",
    ", say c2 = a1c for some integer c , then \n",
    "$$a_1c_1 = a_2c_2 =  a_2a_1c$$\n",
    "so in particular \n",
    "$a_1c_1 = a_2a_1c$, and since a1\n",
    "is nonzero we can cancel it from this\n",
    "equation to get $c_1 = a_2c$ . \n",
    "The two forms are thus [a1, b, a2c] and [a2 , b, a1c] so\n",
    "they are concordant. \n",
    "\n",
    "This argument shows in fact that for two forms $[a1, b, c1]$ and\n",
    "$[a2, b, c2]$ of the same discriminant, if a1 divides c2\n",
    "then it automatically follows that\n",
    "a2 divides c1\n",
    ".\n"
   ]
  },
  {
   "cell_type": "markdown",
   "id": "c773065a-4ad5-485b-baf2-ce5ba089ca9b",
   "metadata": {},
   "source": [
    "**Lemma 7.1.**\n",
    "\n",
    "1. If the concordant forms $[a_1, b, a_2c]$ and $[a_2, b, a_1c]$ are primitive then\n",
    "so is their product and $[a_1,a_2, b, c]$. \n",
    "1. If $a_1$ and $a_2$ are coprime then the converse is also\n",
    "true: \n",
    "If $[a_1,a_2, b, c]$ is primitive then so are $[a_1, b, a_2c]$ and $[a_2, b, a_1c]$\n",
    "\n",
    "---\n",
    "\n",
    "**Lemma 7.3**. For each pair of forms $Q_i = [a_i,b_i,c_i]$ of the\n",
    "same discriminant with $a_1$ and $a_2$ coprime there exists a pair of forms \n",
    "$[a_1, b, a_2c]$ and $[a_2, b, a_1c]$ that are concordant to each other and properly equivalent to $Q_1$\n",
    "and $Q_2$\n",
    "respectively.\n",
    "\n",
    "---\n",
    "\n",
    "**Proposition 7.4.** For a fixed discriminant let $Q_1,Q_2$ be a pair of concordant primitive forms \n",
    "and let $Q'_1,Q′_2$ be another such pair \n",
    "properly equivalent to $Q_1$ and $Q_2$\n",
    "respectively. \n",
    "\n",
    "Then the products $Q_1Q_2$ and $Q′_1Q′_2$ are properly equivalent."
   ]
  },
  {
   "cell_type": "markdown",
   "id": "8b4d6ece-bf07-4f0f-980a-8eb7e5f633b3",
   "metadata": {},
   "source": [
    "## Inversion trick\n",
    "\n",
    "\n",
    "So $Q = [a,b,c]$ and $Q' = [c,-b,a]$ are properly equivalent (and primitive)\n",
    "so $a,c$ are coprime and one can compute \n",
    "$$Q,Q' = Q^2$$\n",
    "by finding equivalent concordant forms.\n",
    "\n",
    "---\n",
    "\n",
    "\n",
    "$$Q_1 = [1,0,26], Q_2 = [2,0,13], Q_2 = [3,2,9], Q_4 = [5,4,6] $$\n",
    "\n",
    "\n",
    "The product $Q_4Q_4 = Q^2_4$\n",
    ", can be computed in the same way using\n",
    "the regions in the topograph of $Q_4$ with the coprime labels 5 and 6. For the edges\n",
    "bordering the 5 region the labels starting with the edge between the 5 and 6 regions\n",
    "are 4, 14, 24, · · ·. For the edges bordering the 6 region we can start with the same\n",
    "edge but now this edge must be oriented in the opposite direction in order to have\n",
    "the 6 region on our left as we move forward. The edge labels are then −4, 8, 20, · · ·.\n",
    "Continuing these arithmetic progressions a little farther we find the common label 44\n",
    "on the edge between the 5 and 102 regions, and on the edge between the 6 and 85\n",
    "regions. Thus we have the concordant forms [5, 44, 102] and [6, 44, 85], with product\n",
    "[30, 44, 17]. The coefficients 30 and 17 appear in adjacent regions in the topograph\n",
    "of $Q_3$\n",
    "so $Q^2_4$\n",
    "is properly equivalent to either $Q_3$ or the mirror image form. "
   ]
  },
  {
   "cell_type": "code",
   "execution_count": 102,
   "id": "f9897e27-9e8e-4fd1-9cd5-20e6d1a0a8c9",
   "metadata": {},
   "outputs": [],
   "source": [
    "def disc(x):\n",
    "    a,b,c = x\n",
    "    return b**2 - 4*a*c"
   ]
  },
  {
   "cell_type": "code",
   "execution_count": 101,
   "id": "26c8dada-024c-4814-bfa4-ec7a711f9364",
   "metadata": {},
   "outputs": [
    {
     "data": {
      "text/plain": [
       "-20"
      ]
     },
     "execution_count": 101,
     "metadata": {},
     "output_type": "execute_result"
    }
   ],
   "source": [
    "disc((2,2,3))"
   ]
  },
  {
   "cell_type": "code",
   "execution_count": 66,
   "id": "e71f27fe-ded0-4496-8d30-472f9c7a66e7",
   "metadata": {},
   "outputs": [],
   "source": [
    "D = disc((1,0,5))"
   ]
  },
  {
   "cell_type": "code",
   "execution_count": 105,
   "id": "4217054e-0ce0-4f05-8fd8-ceae206a313e",
   "metadata": {},
   "outputs": [],
   "source": [
    "X = (1,0,5)\n",
    "Y = (2,2,3)"
   ]
  },
  {
   "cell_type": "code",
   "execution_count": 59,
   "id": "a83cd0ce-667d-4272-8726-702a5833e8c3",
   "metadata": {},
   "outputs": [],
   "source": [
    "_,m,n = egcd(a,-A)"
   ]
  },
  {
   "cell_type": "code",
   "execution_count": 71,
   "id": "2ac365b0-aa06-4574-901d-92ad9d40cbf3",
   "metadata": {},
   "outputs": [],
   "source": [
    "bb = m*(b-B) + b"
   ]
  },
  {
   "cell_type": "code",
   "execution_count": 70,
   "id": "2fe105a6-4f58-4f16-8071-714a287ca691",
   "metadata": {},
   "outputs": [
    {
     "data": {
      "text/plain": [
       "-20"
      ]
     },
     "execution_count": 70,
     "metadata": {},
     "output_type": "execute_result"
    }
   ],
   "source": [
    " disc((1,2,6))"
   ]
  },
  {
   "cell_type": "code",
   "execution_count": 72,
   "id": "a08b4f73-e2f3-4bf9-9ada-a2377afd0404",
   "metadata": {},
   "outputs": [
    {
     "data": {
      "text/plain": [
       "-6"
      ]
     },
     "execution_count": 72,
     "metadata": {},
     "output_type": "execute_result"
    }
   ],
   "source": [
    "(-20 - bb**2)//4"
   ]
  },
  {
   "cell_type": "code",
   "execution_count": 73,
   "id": "9a8d927f-83ca-4fc6-9d3f-2c5c0e34fa91",
   "metadata": {},
   "outputs": [
    {
     "data": {
      "text/plain": [
       "(2, 2, 3)"
      ]
     },
     "execution_count": 73,
     "metadata": {},
     "output_type": "execute_result"
    }
   ],
   "source": []
  },
  {
   "cell_type": "code",
   "execution_count": 274,
   "id": "d2d85c5f-a996-49fe-b7e3-5a5a92b4115a",
   "metadata": {},
   "outputs": [],
   "source": [
    "def comp(Q1,Q2):\n",
    "    A,B,C = Q1\n",
    "    a,b,c = Q2\n",
    "    \n",
    "    D = B**2 - 4*A*C\n",
    "    d = b**2 -4*a*c\n",
    "    #only defined if disc(Q1) = disc(Q1)\n",
    "    if D != d : raise(ValueError)\n",
    "\n",
    "    # A*A1 + a*a1 = gcd\n",
    "    #should check A>0, a>0\n",
    "    gcd,A1,a1 = egcd(A,a)\n",
    "\n",
    "    #A and a should be coprime\n",
    "    if gcd != 1:\n",
    "        if C % A == 0:\n",
    "            return (A*A, B, C//A)\n",
    "        else:\n",
    "            a,b,c = c,-b,a\n",
    "\n",
    "    #find a value of b that makes the forms concurrent\n",
    "    gcd,A1,a1 = egcd(A,a)\n",
    "    #x is only defined up to addition with 2*k*a\n",
    "    x = A1*(b-B) % (2*a)\n",
    "    print(x)\n",
    "    bb = A*x + B\n",
    "    return (a*A, bb, (bb**2 - D) // (4*a*A) )\n",
    "    \n",
    "    "
   ]
  },
  {
   "cell_type": "code",
   "execution_count": 276,
   "id": "265881b2-32ed-452f-a97e-008a1dd06792",
   "metadata": {},
   "outputs": [
    {
     "name": "stdout",
     "output_type": "stream",
     "text": [
      "8\n"
     ]
    },
    {
     "data": {
      "text/plain": [
       "((30, 44, 17), -104)"
      ]
     },
     "execution_count": 276,
     "metadata": {},
     "output_type": "execute_result"
    }
   ],
   "source": [
    "X = [2,0,13]\n",
    "Y = [3,2,9]\n",
    "Z = [5,4,6]\n",
    "\n",
    "PP = comp(Z,Z)\n",
    "PP, disc(PP)"
   ]
  },
  {
   "cell_type": "code",
   "execution_count": 277,
   "id": "220aab92-85ac-4891-875b-258aabf379e2",
   "metadata": {},
   "outputs": [
    {
     "name": "stdout",
     "output_type": "stream",
     "text": [
      "[main f054ebe] misc\n",
      " 2 files changed, 154 insertions(+), 28 deletions(-)\n",
      " create mode 100644 coco.lua\n",
      "Enumerating objects: 6, done.\n",
      "Counting objects: 100% (6/6), done.\n",
      "Delta compression using up to 2 threads\n",
      "Compressing objects: 100% (4/4), done.\n",
      "Writing objects: 100% (4/4), 2.07 KiB | 1.03 MiB/s, done.\n",
      "Total 4 (delta 2), reused 0 (delta 0), pack-reused 0\n",
      "remote: Resolving deltas: 100% (2/2), completed with 2 local objects.\u001b[K\n",
      "To https://github.com/macbuse/FAREY_DIAGRAM.git\n",
      "   69b7472..f054ebe  main -> main\n"
     ]
    }
   ],
   "source": [
    "! ./.g\n"
   ]
  },
  {
   "cell_type": "code",
   "execution_count": 92,
   "id": "03dda440-8178-4dfc-8bb6-e2af0b9df138",
   "metadata": {},
   "outputs": [
    {
     "data": {
      "text/plain": [
       "[(0, 116), (2, 120), (4, 132), (6, 152), (8, 180)]"
      ]
     },
     "execution_count": 92,
     "metadata": {},
     "output_type": "execute_result"
    }
   ],
   "source": [
    "[ (k, k**2 + 116) for k in range(0,10,2)]"
   ]
  },
  {
   "cell_type": "code",
   "execution_count": 78,
   "id": "6739c834-e064-402f-b236-fcb40366ed3c",
   "metadata": {},
   "outputs": [
    {
     "data": {
      "text/plain": [
       "-28"
      ]
     },
     "execution_count": 78,
     "metadata": {},
     "output_type": "execute_result"
    }
   ],
   "source": [
    "16 - 4*11"
   ]
  },
  {
   "cell_type": "code",
   "execution_count": 94,
   "id": "27e894e1-e963-4c9a-9794-c04b572e1f85",
   "metadata": {},
   "outputs": [
    {
     "data": {
      "text/plain": [
       "-116"
      ]
     },
     "execution_count": 94,
     "metadata": {},
     "output_type": "execute_result"
    }
   ],
   "source": [
    "disc((5,2,6))"
   ]
  },
  {
   "cell_type": "code",
   "execution_count": 89,
   "id": "cd73d017-ccc5-4544-9f1b-cd7b03c15e54",
   "metadata": {},
   "outputs": [
    {
     "data": {
      "text/plain": [
       "-52"
      ]
     },
     "execution_count": 89,
     "metadata": {},
     "output_type": "execute_result"
    }
   ],
   "source": [
    "disc((2,2,7))"
   ]
  },
  {
   "cell_type": "code",
   "execution_count": 90,
   "id": "05f3167d-c0ad-4413-84eb-a0e29cf8d6db",
   "metadata": {},
   "outputs": [
    {
     "data": {
      "text/plain": [
       "13.0"
      ]
     },
     "execution_count": 90,
     "metadata": {},
     "output_type": "execute_result"
    }
   ],
   "source": []
  },
  {
   "cell_type": "code",
   "execution_count": null,
   "id": "08569f98-ec93-4197-81b7-970710c10c08",
   "metadata": {},
   "outputs": [],
   "source": []
  }
 ],
 "metadata": {
  "kernelspec": {
   "display_name": "Python 3 (ipykernel)",
   "language": "python",
   "name": "python3"
  },
  "language_info": {
   "codemirror_mode": {
    "name": "ipython",
    "version": 3
   },
   "file_extension": ".py",
   "mimetype": "text/x-python",
   "name": "python",
   "nbconvert_exporter": "python",
   "pygments_lexer": "ipython3",
   "version": "3.11.5"
  }
 },
 "nbformat": 4,
 "nbformat_minor": 5
}
