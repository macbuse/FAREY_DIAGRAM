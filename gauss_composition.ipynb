{
 "cells": [
  {
   "cell_type": "code",
   "execution_count": 21,
   "id": "f0c12d94-78ee-429e-8919-b997cc1b58d4",
   "metadata": {},
   "outputs": [],
   "source": [
    "import numpy as np\n",
    "from egcd import egcd"
   ]
  },
  {
   "cell_type": "code",
   "execution_count": 99,
   "id": "cf184653-896b-4735-9b91-70adc3764e75",
   "metadata": {},
   "outputs": [],
   "source": [
    "class Q():\n",
    "    def __init__(self,x):\n",
    "        a, b, c = x\n",
    "        self.D = b**2 - 4*a*c\n",
    "\n",
    "    def __mul__(self,other):\n",
    "        pass\n",
    "\n",
    "    def root(self):\n",
    "        return (-self.b + 1J*self.D)/2\n",
    "        \n",
    "\n",
    "    def __str__(self):\n",
    "        return f'{self.a}, {self.b}, {self.c}'"
   ]
  },
  {
   "cell_type": "code",
   "execution_count": 12,
   "id": "d65cedc2-03fe-4276-a132-50fcff16616f",
   "metadata": {},
   "outputs": [
    {
     "name": "stdout",
     "output_type": "stream",
     "text": [
      "1, 2, 3\n"
     ]
    }
   ],
   "source": [
    "print(Q((1,2,3)))"
   ]
  },
  {
   "cell_type": "markdown",
   "id": "e23c167b-cf22-4829-a5cc-b0b9d7cfea31",
   "metadata": {},
   "source": [
    "A pair of forms $[a1, b, a2c]$ and $[a2, b, a1c]$ is said to be concordant. For two\n",
    "forms to be concordant is obviously a very strong condition since not only are the\n",
    "second coefficients of the two forms equal, but also the first coefficient of each form\n",
    "divides the third coefficient of the other form. Furthermore, the discriminants of the\n",
    "two forms are equal. Conversely, suppose that two forms \n",
    "$[a1, b, c1]$ and $[a2, b, c2]$\n",
    "with the same middle coefficient have the same discriminant. \n",
    "\n",
    "Then $$a_1c_1 = a_2c_2$$,\n",
    "so if a1 divides c2\n",
    ", say c2 = a1c for some integer c , then \n",
    "$$a_1c_1 = a_2c_2 =  a_2a_1c$$\n",
    "so in particular \n",
    "$a_1c_1 = a_2a_1c$, and since a1\n",
    "is nonzero we can cancel it from this\n",
    "equation to get $c_1 = a_2c$ . The two forms are thus [a1\n",
    ", b, a2c] and [a2\n",
    ", b, a1c] so\n",
    "they are concordant. This argument shows in fact that for two forms [a1\n",
    ", b, c1\n",
    "] and\n",
    "[a2\n",
    ", b, c2\n",
    "] of the same discriminant, if a1 divides c2\n",
    "then it automatically follows that\n",
    "a2 divides c1\n",
    ".\n"
   ]
  },
  {
   "cell_type": "markdown",
   "id": "c773065a-4ad5-485b-baf2-ce5ba089ca9b",
   "metadata": {},
   "source": [
    "**Proposition 7.4.** For a fixed discriminant let $Q_1\n",
    ", Q_2$ be a pair of concordant primitive forms and let $Q'_1\n",
    "Q′_2$\n",
    "be another such pair properly equivalent to Q_1 and Q_2\n",
    "respectively. \n",
    "\n",
    "Then the products Q_1Q_2 and Q′_1Q′_2 are properly equivalent."
   ]
  },
  {
   "cell_type": "code",
   "execution_count": 102,
   "id": "f9897e27-9e8e-4fd1-9cd5-20e6d1a0a8c9",
   "metadata": {},
   "outputs": [],
   "source": [
    "def disc(x):\n",
    "    a,b,c = x\n",
    "    return b**2 - 4*a*c"
   ]
  },
  {
   "cell_type": "code",
   "execution_count": 101,
   "id": "26c8dada-024c-4814-bfa4-ec7a711f9364",
   "metadata": {},
   "outputs": [
    {
     "data": {
      "text/plain": [
       "-20"
      ]
     },
     "execution_count": 101,
     "metadata": {},
     "output_type": "execute_result"
    }
   ],
   "source": [
    "disc((2,2,3))"
   ]
  },
  {
   "cell_type": "code",
   "execution_count": 66,
   "id": "e71f27fe-ded0-4496-8d30-472f9c7a66e7",
   "metadata": {},
   "outputs": [],
   "source": [
    "D = disc((1,0,5))"
   ]
  },
  {
   "cell_type": "code",
   "execution_count": 58,
   "id": "4217054e-0ce0-4f05-8fd8-ceae206a313e",
   "metadata": {},
   "outputs": [],
   "source": [
    "A,B,C = (1,0,5)\n",
    "a,b,c = (2,2,3)"
   ]
  },
  {
   "cell_type": "code",
   "execution_count": 59,
   "id": "a83cd0ce-667d-4272-8726-702a5833e8c3",
   "metadata": {},
   "outputs": [],
   "source": [
    "_,m,n = egcd(a,-A)"
   ]
  },
  {
   "cell_type": "code",
   "execution_count": 71,
   "id": "2ac365b0-aa06-4574-901d-92ad9d40cbf3",
   "metadata": {},
   "outputs": [],
   "source": [
    "bb = m*(b-B) + b"
   ]
  },
  {
   "cell_type": "code",
   "execution_count": 70,
   "id": "2fe105a6-4f58-4f16-8071-714a287ca691",
   "metadata": {},
   "outputs": [
    {
     "data": {
      "text/plain": [
       "-20"
      ]
     },
     "execution_count": 70,
     "metadata": {},
     "output_type": "execute_result"
    }
   ],
   "source": [
    " disc((1,2,6))"
   ]
  },
  {
   "cell_type": "code",
   "execution_count": 72,
   "id": "a08b4f73-e2f3-4bf9-9ada-a2377afd0404",
   "metadata": {},
   "outputs": [
    {
     "data": {
      "text/plain": [
       "-6"
      ]
     },
     "execution_count": 72,
     "metadata": {},
     "output_type": "execute_result"
    }
   ],
   "source": [
    "(-20 - bb**2)//4"
   ]
  },
  {
   "cell_type": "code",
   "execution_count": 73,
   "id": "9a8d927f-83ca-4fc6-9d3f-2c5c0e34fa91",
   "metadata": {},
   "outputs": [
    {
     "data": {
      "text/plain": [
       "(2, 2, 3)"
      ]
     },
     "execution_count": 73,
     "metadata": {},
     "output_type": "execute_result"
    }
   ],
   "source": [
    "(a*A,bb, (bb**2 - D) // (4*a) )"
   ]
  },
  {
   "cell_type": "code",
   "execution_count": 91,
   "id": "d2d85c5f-a996-49fe-b7e3-5a5a92b4115a",
   "metadata": {},
   "outputs": [
    {
     "data": {
      "text/plain": [
       "-116"
      ]
     },
     "execution_count": 91,
     "metadata": {},
     "output_type": "execute_result"
    }
   ],
   "source": [
    "disc((1,0,29))"
   ]
  },
  {
   "cell_type": "code",
   "execution_count": 92,
   "id": "03dda440-8178-4dfc-8bb6-e2af0b9df138",
   "metadata": {},
   "outputs": [
    {
     "data": {
      "text/plain": [
       "[(0, 116), (2, 120), (4, 132), (6, 152), (8, 180)]"
      ]
     },
     "execution_count": 92,
     "metadata": {},
     "output_type": "execute_result"
    }
   ],
   "source": [
    "[ (k, k**2 + 116) for k in range(0,10,2)]"
   ]
  },
  {
   "cell_type": "code",
   "execution_count": 78,
   "id": "6739c834-e064-402f-b236-fcb40366ed3c",
   "metadata": {},
   "outputs": [
    {
     "data": {
      "text/plain": [
       "-28"
      ]
     },
     "execution_count": 78,
     "metadata": {},
     "output_type": "execute_result"
    }
   ],
   "source": [
    "16 - 4*11"
   ]
  },
  {
   "cell_type": "code",
   "execution_count": 94,
   "id": "27e894e1-e963-4c9a-9794-c04b572e1f85",
   "metadata": {},
   "outputs": [
    {
     "data": {
      "text/plain": [
       "-116"
      ]
     },
     "execution_count": 94,
     "metadata": {},
     "output_type": "execute_result"
    }
   ],
   "source": [
    "disc((5,2,6))"
   ]
  },
  {
   "cell_type": "code",
   "execution_count": 89,
   "id": "cd73d017-ccc5-4544-9f1b-cd7b03c15e54",
   "metadata": {},
   "outputs": [
    {
     "data": {
      "text/plain": [
       "-52"
      ]
     },
     "execution_count": 89,
     "metadata": {},
     "output_type": "execute_result"
    }
   ],
   "source": [
    "disc((2,2,7))"
   ]
  },
  {
   "cell_type": "code",
   "execution_count": 90,
   "id": "05f3167d-c0ad-4413-84eb-a0e29cf8d6db",
   "metadata": {},
   "outputs": [
    {
     "data": {
      "text/plain": [
       "13.0"
      ]
     },
     "execution_count": 90,
     "metadata": {},
     "output_type": "execute_result"
    }
   ],
   "source": []
  },
  {
   "cell_type": "code",
   "execution_count": null,
   "id": "08569f98-ec93-4197-81b7-970710c10c08",
   "metadata": {},
   "outputs": [],
   "source": []
  }
 ],
 "metadata": {
  "kernelspec": {
   "display_name": "Python 3 (ipykernel)",
   "language": "python",
   "name": "python3"
  },
  "language_info": {
   "codemirror_mode": {
    "name": "ipython",
    "version": 3
   },
   "file_extension": ".py",
   "mimetype": "text/x-python",
   "name": "python",
   "nbconvert_exporter": "python",
   "pygments_lexer": "ipython3",
   "version": "3.11.5"
  }
 },
 "nbformat": 4,
 "nbformat_minor": 5
}
